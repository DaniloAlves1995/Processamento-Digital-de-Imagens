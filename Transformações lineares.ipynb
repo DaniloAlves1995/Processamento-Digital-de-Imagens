{
 "cells": [
  {
   "cell_type": "markdown",
   "metadata": {},
   "source": [
    "# Transformações lineares\n",
    "Código em python para aplicar processos de translação, rotação, escalonamento e distorção (Shear) em dimensões vertical e horizontal na imagem."
   ]
  },
  {
   "cell_type": "code",
   "execution_count": 3,
   "metadata": {},
   "outputs": [],
   "source": [
    "# importando as bibliotecas\n",
    "\n",
    "import cv2\n",
    "import numpy as np\n",
    "import math\n",
    "import matplotlib.pyplot as plt\n",
    "import matplotlib.image as mpimg\n",
    "\n",
    "#%matplotlib widget"
   ]
  },
  {
   "cell_type": "code",
   "execution_count": 195,
   "metadata": {},
   "outputs": [],
   "source": [
    "# função de translação\n",
    "def trans(img, tx, ty):\n",
    "    Mt = np.array([[1,0,tx], [0, 1, ty], [0, 0, 1]])\n",
    "    imgOut = np.ones((img.shape[0], img.shape[1], 3), np.uint8)*255\n",
    "    for i in range(0, img.shape[0]-1):\n",
    "        for j in range(0, img.shape[1]-1):\n",
    "            px = np.array([j, i, 1])\n",
    "            ps = Mt@px.T\n",
    "            if ps[1]<imgOut.shape[0] and ps[1]>=0 and ps[0]<img.shape[1] and ps[0]>=0 :\n",
    "                imgOut[ps[1], ps[0]] = img[i,j]\n",
    "                #print(imgOut[ps[1], ps[0]])\n",
    "    \n",
    "    return imgOut\n",
    "\n",
    "#interpolação\n",
    "def inter(i, j, M, T_inv):\n",
    "    x_max, y_max = M.shape[0] - 1, M.shape[1] - 1\n",
    "    x, y, _ = T_inv @ np.array([i, j, 1])\n",
    "    if np.floor(x) == x and np.floor(y) == y:\n",
    "        x, y = int(x), int(y)\n",
    "        return M[x, y]\n",
    "    if np.abs(np.floor(x) - x) < np.abs(np.ceil(x) - x):\n",
    "        x = int(np.floor(x))\n",
    "    else:\n",
    "        x = int(np.ceil(x))\n",
    "    if np.abs(np.floor(y) - y) < np.abs(np.ceil(y) - y):\n",
    "        y = int(np.floor(y))\n",
    "    else:\n",
    "        y = int(np.ceil(y))\n",
    "    if x > x_max:\n",
    "        x = x_max\n",
    "    if y > y_max:\n",
    "        y = y_max\n",
    "    return M[x, y]\n",
    "\n",
    "def rot(img, ang):\n",
    "    ang = ang*math.pi/180;\n",
    "    imgOut = np.ones((img.shape[0], img.shape[1], 3), np.uint8)*255\n",
    "    Mr = np.array([[math.cos(ang), math.sin(ang), 0], [-math.sin(ang), math.cos(ang), 0], [0, 0, 1]])\n",
    "    T_inv = np.linalg.inv(Mr)\n",
    "    for i in range(0, img.shape[0]-1):\n",
    "        for j in range(0, img.shape[1]-1):\n",
    "            px = np.array([j, i, 1])\n",
    "            ps = Mr@px.T\n",
    "            #ps = [round(ps[0]), round(ps[1])]\n",
    "            if ps[1]<imgOut.shape[0] and ps[1]>=0 and ps[0]<img.shape[1] and ps[0]>=0 :\n",
    "                #imgOut[ps[1], ps[0]] = img[i,j]\n",
    "                imgOut[i,  j] = inter(ps[1], ps[0], img, T_inv)\n",
    "               \n",
    "    return imgOut\n",
    "\n",
    "def esc(img, sx, sy):\n",
    "    imgOut = np.ones((img.shape[0], img.shape[1], 3), np.uint8)*255\n",
    "    Me = np.array([[sx, 0, 0], [0, sy, 0], [0, 0, 1]])\n",
    "    T_inv = np.linalg.inv(Me)\n",
    "    for i in range(0, img.shape[0]-1):\n",
    "        for j in range(0, img.shape[1]-1):\n",
    "            px = np.array([j, i, 1])\n",
    "            ps = Me@px.T\n",
    "            #ps = [round(ps[0]), round(ps[1])]\n",
    "            if ps[1]<imgOut.shape[0] and ps[1]>=0 and ps[0]<img.shape[1] and ps[0]>=0 :\n",
    "                imgOut[i, j] = inter(ps[1], ps[0], img, T_inv)\n",
    "               \n",
    "    return imgOut\n",
    "\n",
    "def shear(img, s, tipo):\n",
    "    Ms = []\n",
    "    if(tipo == \"H\"):\n",
    "        Ms = np.array([[1, s, 0], [0, 1, 0], [0, 0, 1]])\n",
    "    elif tipo == \"V\":\n",
    "        Ms = np.array([[1, 0, 0], [s, 1, 0], [0, 0, 1]])\n",
    "    imgOut = np.ones((img.shape[0], img.shape[1], 3), np.uint8)*255\n",
    "    T_inv = np.linalg.inv(Ms)\n",
    "    for i in range(0, img.shape[0]-1):\n",
    "        for j in range(0, img.shape[1]-1):\n",
    "            px = np.array([j, i, 1])\n",
    "            ps = Ms@px.T\n",
    "            #ps = [round(ps[0]), round(ps[1])]\n",
    "            if ps[1]<imgOut.shape[0] and ps[1]>=0 and ps[0]<img.shape[1] and ps[0]>=0 :\n",
    "                imgOut[i, j] = inter(ps[1], ps[0], img, T_inv)\n",
    "               \n",
    "    return imgOut\n",
    "\n",
    "def onclick(event):\n",
    "    ix, iy = event.xdata, event.ydata\n",
    "    global chosen_coordinates\n",
    "    chosen_coordinates = [int(math.floor(iy)),int(math.floor(ix))]\n",
    "    plt.close()\n",
    "            "
   ]
  },
  {
   "cell_type": "code",
   "execution_count": 212,
   "metadata": {},
   "outputs": [],
   "source": [
    "#Ler imagem\n",
    "img = cv2.imread('test images/Letter_T.jpg', cv2.IMREAD_COLOR)\n",
    "\n",
    "imgT = trans(img, 30, 20)\n",
    "imgR = rot(img, 20)\n",
    "imgS = esc(img, 1, 2)\n",
    "imgSh = shear(img, 1, \"H\")\n",
    "\n",
    "cv2.imshow('original image', img)\n",
    "cv2.imshow('translade image', imgT)\n",
    "cv2.imshow('rotate image', imgR)\n",
    "cv2.imshow('scale image', imgS)\n",
    "cv2.imshow('shear image', imgSh)\n",
    "cv2.waitKey(0)\n",
    "cv2.destroyAllWindows()"
   ]
  },
  {
   "cell_type": "code",
   "execution_count": 100,
   "metadata": {},
   "outputs": [],
   "source": [
    "imgOut = np.zeros((img.shape[0], img.shape[1], 1))"
   ]
  },
  {
   "cell_type": "code",
   "execution_count": 91,
   "metadata": {},
   "outputs": [
    {
     "name": "stdout",
     "output_type": "stream",
     "text": [
      "200.0\n"
     ]
    }
   ],
   "source": [
    "imgOut[100,120] = 200;\n",
    "print(imgOut[100,120])"
   ]
  },
  {
   "cell_type": "code",
   "execution_count": 111,
   "metadata": {},
   "outputs": [
    {
     "data": {
      "text/plain": [
       "1.0"
      ]
     },
     "execution_count": 111,
     "metadata": {},
     "output_type": "execute_result"
    }
   ],
   "source": [
    "math.sin(90*math.pi/180)"
   ]
  },
  {
   "cell_type": "code",
   "execution_count": 120,
   "metadata": {},
   "outputs": [
    {
     "name": "stdout",
     "output_type": "stream",
     "text": [
      "[1, 2]\n"
     ]
    }
   ],
   "source": [
    "t = [0.7563, 1.8989]\n",
    "a = [round(t[0]), round(t[1])]\n",
    "print(a)"
   ]
  },
  {
   "cell_type": "code",
   "execution_count": 4,
   "metadata": {},
   "outputs": [
    {
     "ename": "ValueError",
     "evalue": "The truth value of an array with more than one element is ambiguous. Use a.any() or a.all()",
     "output_type": "error",
     "traceback": [
      "\u001b[1;31m---------------------------------------------------------------------------\u001b[0m",
      "\u001b[1;31mValueError\u001b[0m                                Traceback (most recent call last)",
      "\u001b[1;32m<ipython-input-4-95c8f908be9e>\u001b[0m in \u001b[0;36m<module>\u001b[1;34m\u001b[0m\n\u001b[0;32m      2\u001b[0m \u001b[1;33m\u001b[0m\u001b[0m\n\u001b[0;32m      3\u001b[0m \u001b[0mimg\u001b[0m\u001b[1;33m=\u001b[0m\u001b[0mmpimg\u001b[0m\u001b[1;33m.\u001b[0m\u001b[0mimread\u001b[0m\u001b[1;33m(\u001b[0m\u001b[1;34m\"test images/Letter_T.jpg\"\u001b[0m\u001b[1;33m)\u001b[0m\u001b[1;33m\u001b[0m\u001b[1;33m\u001b[0m\u001b[0m\n\u001b[1;32m----> 4\u001b[1;33m \u001b[0mfig\u001b[0m\u001b[1;33m.\u001b[0m\u001b[0mshow\u001b[0m\u001b[1;33m(\u001b[0m\u001b[0mimg\u001b[0m\u001b[1;33m)\u001b[0m\u001b[1;33m\u001b[0m\u001b[1;33m\u001b[0m\u001b[0m\n\u001b[0m",
      "\u001b[1;32m~\\anaconda3\\lib\\site-packages\\matplotlib\\figure.py\u001b[0m in \u001b[0;36mshow\u001b[1;34m(self, warn)\u001b[0m\n\u001b[0;32m    445\u001b[0m                 \u001b[1;32mpass\u001b[0m\u001b[1;33m\u001b[0m\u001b[1;33m\u001b[0m\u001b[0m\n\u001b[0;32m    446\u001b[0m         if (backends._get_running_interactive_framework() != \"headless\"\n\u001b[1;32m--> 447\u001b[1;33m                 and warn):\n\u001b[0m\u001b[0;32m    448\u001b[0m             cbook._warn_external('Matplotlib is currently using %s, which is '\n\u001b[0;32m    449\u001b[0m                                  \u001b[1;34m'a non-GUI backend, so cannot show the '\u001b[0m\u001b[1;33m\u001b[0m\u001b[1;33m\u001b[0m\u001b[0m\n",
      "\u001b[1;31mValueError\u001b[0m: The truth value of an array with more than one element is ambiguous. Use a.any() or a.all()"
     ]
    },
    {
     "data": {
      "text/plain": [
       "<Figure size 288x216 with 0 Axes>"
      ]
     },
     "metadata": {},
     "output_type": "display_data"
    }
   ],
   "source": [
    "fig = plt.figure(figsize=(4,3))\n",
    "\n",
    "img=mpimg.imread(\"test images/Letter_T.jpg\")\n",
    "fig.show(img)"
   ]
  },
  {
   "cell_type": "code",
   "execution_count": null,
   "metadata": {},
   "outputs": [],
   "source": []
  }
 ],
 "metadata": {
  "kernelspec": {
   "display_name": "Python 3",
   "language": "python",
   "name": "python3"
  },
  "language_info": {
   "codemirror_mode": {
    "name": "ipython",
    "version": 3
   },
   "file_extension": ".py",
   "mimetype": "text/x-python",
   "name": "python",
   "nbconvert_exporter": "python",
   "pygments_lexer": "ipython3",
   "version": "3.7.6"
  }
 },
 "nbformat": 4,
 "nbformat_minor": 4
}
